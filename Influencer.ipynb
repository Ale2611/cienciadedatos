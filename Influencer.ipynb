{
  "nbformat": 4,
  "nbformat_minor": 0,
  "metadata": {
    "colab": {
      "provenance": [],
      "authorship_tag": "ABX9TyO2eVJ8M8nGNeIP7hLWv9ov",
      "include_colab_link": true
    },
    "kernelspec": {
      "name": "python3",
      "display_name": "Python 3"
    },
    "language_info": {
      "name": "python"
    }
  },
  "cells": [
    {
      "cell_type": "markdown",
      "metadata": {
        "id": "view-in-github",
        "colab_type": "text"
      },
      "source": [
        "<a href=\"https://colab.research.google.com/github/Ale2611/Alumnos_IFTS18/blob/main/Ejercicio2CD_corregido.ipynb\" target=\"_parent\"><img src=\"https://colab.research.google.com/assets/colab-badge.svg\" alt=\"Open In Colab\"/></a>"
      ]
    },
    {
      "cell_type": "code",
      "source": [
        "import pandas as pd #importación de la librería panda\n",
        "archivo = 'Datos _usuarios.xlsx' #Asigna el nombre del archivo Excel a la variable archivo\n",
        "dataframe = pd.read_excel(archivo, sheet_name='Hoja1') #: Utiliza la función read_excel de pandas para leer el archivo Excel especificado por la variable archivo. La hoja de Excel llamada 'Hoja1' se carga en un DataFrame de pandas, que se almacena en la variable dataframe.\n",
        "\n",
        "nuevos_nombres = ['N.º', 'Usuario', 'Propietario', 'Seguidores_en_millones', 'Ocupación', 'País', 'Cuenta_de_marca']\n",
        "dataframe.columns = nuevos_nombres\n",
        "\n",
        "dataframe['Cuenta_de_marca'] = dataframe['Cuenta_de_marca'].replace({'Sí': 1, 'No': 0})\n",
        "\n",
        "def mas_seguidores():\n",
        "    indice_max_seguidores = dataframe['Seguidores_en_millones'].idxmax()\n",
        "    celebridad_mas_seguidores = dataframe.loc[indice_max_seguidores]\n",
        "\n",
        "    nombre = celebridad_mas_seguidores['Propietario']\n",
        "    seguidores = celebridad_mas_seguidores['Seguidores_en_millones']\n",
        "    pais = celebridad_mas_seguidores['País']\n",
        "\n",
        "    print(\"Nombre:\", nombre)\n",
        "    print(\"Cantidad de seguidores:\", seguidores, \"millones\")\n",
        "    print(\"País de origen:\", pais)\n",
        "\n",
        "def paises():\n",
        "    conteo_paises = dataframe['País'].value_counts()\n",
        "    top_paises = conteo_paises.head(3)\n",
        "    print(top_paises)\n",
        "\n",
        "def marca():\n",
        "    cuentas_de_marca = dataframe[dataframe['Cuenta_de_marca'] == 1]\n",
        "    indice_max_seguidores_marca = cuentas_de_marca['Seguidores_en_millones'].idxmax()\n",
        "    max_seguidores_marca = dataframe.loc[indice_max_seguidores_marca]\n",
        "    nombre = max_seguidores_marca['Propietario']\n",
        "    seguidores = max_seguidores_marca['Seguidores_en_millones']\n",
        "    print(\"Nombre:\", nombre)\n",
        "    print(\"Cantidad de seguidores:\", seguidores, \"millones\")\n",
        "\n",
        "texto = \"\"\"Ingrese la operación a realizar:\n",
        "\n",
        "1. Indicar el influencer con más seguidores\n",
        "2. Indicar los 3 países con más influencer\n",
        "3. Indicar la cuenta de Marca con más seguidores: Nombre, cantidad de seguidores\n",
        "4. Salir del menú\n",
        "\"\"\"\n",
        "\n",
        "opcion = int(input(texto))\n",
        "\n",
        "if opcion == 1:\n",
        "    mas_seguidores()\n",
        "elif opcion == 2:\n",
        "    paises()\n",
        "elif opcion == 3:\n",
        "    marca()\n",
        "elif opcion == 4:\n",
        "    print(\"Usted salió del menú\")\n",
        "else:\n",
        "    print(\"Valor ingresado incorrecto\")\n"
      ],
      "metadata": {
        "colab": {
          "base_uri": "https://localhost:8080/"
        },
        "id": "ZPfrgnBe49Y_",
        "outputId": "3bb21445-a748-4fc4-85c7-b585e12b45f2"
      },
      "execution_count": null,
      "outputs": [
        {
          "output_type": "stream",
          "name": "stdout",
          "text": [
            "Ingrese la operación a realizar:\n",
            "\n",
            "1. Indicar el influencer con más seguidores\n",
            "2. Indicar los 3 países con más influencer\n",
            "3. Indicar la cuenta de Marca con más seguidores: Nombre, cantidad de seguidores\n",
            "4. Salir del menú\n",
            "3\n",
            "Nombre: Instagram\n",
            "Cantidad de seguidores: 672 millones\n"
          ]
        }
      ]
    }
  ]
}
