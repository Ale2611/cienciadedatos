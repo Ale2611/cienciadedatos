{
 "cells": [
  {
   "cell_type": "code",
   "execution_count": 50,
   "id": "c6c57c11-b89d-4bb6-82e5-891aa44549d3",
   "metadata": {},
   "outputs": [],
   "source": [
    "def func_one(n):\n",
    "    return [str(num) for num in range(n)]"
   ]
  },
  {
   "cell_type": "code",
   "execution_count": 54,
   "id": "fab570d9-af79-4eaf-a8d4-6dd7f195607c",
   "metadata": {},
   "outputs": [
    {
     "data": {
      "text/plain": [
       "['0', '1', '2', '3', '4', '5', '6', '7', '8', '9', '10', '11', '12', '13']"
      ]
     },
     "execution_count": 54,
     "metadata": {},
     "output_type": "execute_result"
    }
   ],
   "source": [
    "func_one(14)"
   ]
  },
  {
   "cell_type": "code",
   "execution_count": 56,
   "id": "303c2f02-586e-4047-be30-abebb8adc3cb",
   "metadata": {},
   "outputs": [],
   "source": [
    "def func_two(n):\n",
    "    return list(map(str, range(n)))"
   ]
  },
  {
   "cell_type": "code",
   "execution_count": 58,
   "id": "6cae4356-249a-4b31-8442-66d49aeb9209",
   "metadata": {},
   "outputs": [
    {
     "data": {
      "text/plain": [
       "['0', '1', '2', '3', '4', '5', '6', '7', '8', '9', '10', '11', '12', '13']"
      ]
     },
     "execution_count": 58,
     "metadata": {},
     "output_type": "execute_result"
    }
   ],
   "source": [
    "func_two(14)"
   ]
  },
  {
   "cell_type": "code",
   "execution_count": 14,
   "id": "6966e8aa-e228-4a38-a32f-be5fbd9cea9b",
   "metadata": {},
   "outputs": [],
   "source": [
    "import time"
   ]
  },
  {
   "cell_type": "code",
   "execution_count": 66,
   "id": "e58fae7d-17c2-4d0a-8df2-80032dfec451",
   "metadata": {},
   "outputs": [
    {
     "name": "stdout",
     "output_type": "stream",
     "text": [
      "0.012509822845458984\n"
     ]
    }
   ],
   "source": [
    "# Guardo el tiempo antes de iniciar mi código\n",
    "start_time = time.time()\n",
    "\n",
    "# Corro el código a medir\n",
    "result = func_one(100000)\n",
    "\n",
    "# Guardo el tiempo después de correr el código\n",
    "end_time = time.time()\n",
    "\n",
    "# Calculo el tiempo transcurrido\n",
    "run_time = end_time - start_time\n",
    "# y lo imprimo\n",
    "print(run_time)"
   ]
  },
  {
   "cell_type": "code",
   "execution_count": 64,
   "id": "bb41a6d1-fabd-4918-bcdf-4aa3333b956f",
   "metadata": {},
   "outputs": [
    {
     "name": "stdout",
     "output_type": "stream",
     "text": [
      "0.008515119552612305\n"
     ]
    }
   ],
   "source": [
    "# Guardo el tiempo antes de iniciar mi código\n",
    "start_time = time.time()\n",
    "\n",
    "# Corro el código a medir\n",
    "result = func_two(100000)\n",
    "\n",
    "# Guardo el tiempo después de correr el código\n",
    "end_time = time.time()\n",
    "\n",
    "# Calculo el tiempo transcurrido\n",
    "run_time = end_time - start_time\n",
    "# y lo imprimo\n",
    "print(run_time)"
   ]
  },
  {
   "cell_type": "code",
   "execution_count": 32,
   "id": "50081daa-3463-42d6-9756-adba9637cdbd",
   "metadata": {},
   "outputs": [],
   "source": [
    "import timeit"
   ]
  },
  {
   "cell_type": "code",
   "execution_count": 34,
   "id": "30db1291-4ed8-450c-9a9a-defd182ac42f",
   "metadata": {},
   "outputs": [],
   "source": [
    "stmt = \"\"\"\n",
    "func_one(100)\n",
    "\"\"\""
   ]
  },
  {
   "cell_type": "code",
   "execution_count": 36,
   "id": "6ca421c3-b17a-41b6-b12e-ddcb19d2881c",
   "metadata": {},
   "outputs": [],
   "source": [
    "setup = \"\"\"\n",
    "def func_one(n):\n",
    "    return [str(num) for num in range(n)]\n",
    "\"\"\""
   ]
  },
  {
   "cell_type": "code",
   "execution_count": 70,
   "id": "5a773e5e-e77a-4294-9cac-6d4aa7c4c437",
   "metadata": {},
   "outputs": [
    {
     "data": {
      "text/plain": [
       "1.0213137000000643"
      ]
     },
     "execution_count": 70,
     "metadata": {},
     "output_type": "execute_result"
    }
   ],
   "source": [
    "timeit.timeit(stmt, setup, number=100000)"
   ]
  },
  {
   "cell_type": "code",
   "execution_count": 40,
   "id": "c3223759-8e2c-48c2-9133-247b537839d1",
   "metadata": {},
   "outputs": [],
   "source": [
    "stmt2 = \"\"\"\n",
    "func_two(100)\n",
    "\"\"\""
   ]
  },
  {
   "cell_type": "code",
   "execution_count": 42,
   "id": "ed063b2f-b379-4b72-87ef-6c9a6d26b6d1",
   "metadata": {},
   "outputs": [],
   "source": [
    "setup2 = \"\"\"\n",
    "def func_two(n):\n",
    "    return list(map(str, range(n)))\n",
    "\"\"\""
   ]
  },
  {
   "cell_type": "code",
   "execution_count": 44,
   "id": "59bbd97f-f577-4198-b1ab-2a79a71d83a8",
   "metadata": {},
   "outputs": [
    {
     "data": {
      "text/plain": [
       "0.841891099999998"
      ]
     },
     "execution_count": 44,
     "metadata": {},
     "output_type": "execute_result"
    }
   ],
   "source": [
    "timeit.timeit(stmt2, setup2, number=100000)"
   ]
  },
  {
   "cell_type": "code",
   "execution_count": 46,
   "id": "540524bb-5d54-48d0-bae1-bdb07753f92a",
   "metadata": {},
   "outputs": [
    {
     "name": "stdout",
     "output_type": "stream",
     "text": [
      "10.4 µs ± 142 ns per loop (mean ± std. dev. of 7 runs, 100000 loops each)\n"
     ]
    }
   ],
   "source": [
    "%%timeit\n",
    "func_one(100)"
   ]
  },
  {
   "cell_type": "code",
   "execution_count": 48,
   "id": "8026e1ae-829d-48c6-a9b7-b1a067e57754",
   "metadata": {},
   "outputs": [
    {
     "name": "stdout",
     "output_type": "stream",
     "text": [
      "8.47 µs ± 63.3 ns per loop (mean ± std. dev. of 7 runs, 100000 loops each)\n"
     ]
    }
   ],
   "source": [
    "%%timeit\n",
    "func_two(100)"
   ]
  },
  {
   "cell_type": "code",
   "execution_count": null,
   "id": "5ecb164e-1a2c-4428-93d0-0fc09f08ae74",
   "metadata": {},
   "outputs": [],
   "source": []
  }
 ],
 "metadata": {
  "kernelspec": {
   "display_name": "Python 3 (ipykernel)",
   "language": "python",
   "name": "python3"
  },
  "language_info": {
   "codemirror_mode": {
    "name": "ipython",
    "version": 3
   },
   "file_extension": ".py",
   "mimetype": "text/x-python",
   "name": "python",
   "nbconvert_exporter": "python",
   "pygments_lexer": "ipython3",
   "version": "3.11.7"
  }
 },
 "nbformat": 4,
 "nbformat_minor": 5
}
