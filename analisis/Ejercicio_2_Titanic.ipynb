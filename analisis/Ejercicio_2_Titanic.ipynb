{
 "cells": [
  {
   "cell_type": "markdown",
   "id": "d7889727-46eb-4b36-9b6f-54534e4de4e9",
   "metadata": {},
   "source": [
    "## Ejercicio 2: Análisis del Dataset Titanic\n",
    "\n",
    "**Objetivo**: Aplicar las técnicas de análisis exploratorio para investigar las características de los pasajeros del Titanic.\n",
    "\n",
    "**Nota**: Deberá cargar el dataset de la siguiente manera: \n",
    "\n",
    "import seaborn as sns\n",
    "\n",
    "import pandas as pd\n",
    "\n",
    "import numpy as np\n",
    "\n",
    "*# Cargar el dataset Titanic de seaborn*\n",
    "\n",
    "titanic = sns.load_dataset('titanic')\n",
    "\n",
    "### Instrucciones:\n",
    "1. **Medidas de Frecuencia**:\n",
    "   - Calcula la frecuencia de los pasajeros por clase (`Pclass`) y por sexo (`Sex`).\n",
    "   - Calcula también la frecuencia de supervivencia (`Survived`).\n",
    "   - Calcula las frecuencias porcentuales.\n",
    "\n",
    "2. **Medidas de Tendencia Central**:\n",
    "   - Calcula la media, mediana y moda de las edades (`Age`).\n",
    "   - Calcula también la media de las tarifas (`Fare`) solo para los pasajeros de primera clase (`Pclass == 1`).\n",
    "\n",
    "3. **Medidas de Dispersión**:\n",
    "   - Calcula la desviación estándar, varianza, rango y rango intercuartil (IQR) de las tarifas (`Fare`).\n",
    "   - Calcula el rango intercuartil (IQR) de las edades (`Age`) para los sobrevivientes (`Survived == 1`).\n",
    "\n",
    "4. **Percentiles y Cuartiles**:\n",
    "   - En lugar de solo calcular percentiles específicos, calcula todos los percentiles (0-100) para las tarifas (`Fare`).\n",
    "\n",
    "5. **Resumen Estadístico**:\n",
    "   - Realiza un resumen estadístico de todo el DataFrame.\n",
    "   - Realiza un resumen estadístico separado para los sobrevivientes (`Survived == 1`) y para los que no sobrevivieron (`Survived == 0`) considerando en principio su clase (`Pclass`) y otro resumen separado para los sobrevivientes (`Survived == 1`) y para los que no sobrevivieron (`Survived == 0`) considerando su sexo (`Sex`).\n",
    "\n",
    "6. **Covarianza y Correlación**:\n",
    "   - Calcula la covarianza entre la edad (`Age`) y la tarifa (`Fare`).\n",
    "   - Calcula la matriz de correlación para las variables numéricas del dataset.\n",
    "\n",
    "7. **Tablas de Contingencia**:\n",
    "   - Calcula una tabla de contingencia entre `Pclass` y `Survived`."
   ]
  },
  {
   "cell_type": "code",
   "execution_count": 1,
   "id": "e0985f18-1200-498b-b997-c4c196feffd7",
   "metadata": {},
   "outputs": [],
   "source": [
    "#Decarga del ds y de las librerías utiles\n",
    "import seaborn as sns\n",
    "\n",
    "import pandas as pd\n",
    "\n",
    "import numpy as np\n",
    "\n",
    "# Cargar el dataset Titanic de seaborn\n",
    "\n",
    "titanic = sns.load_dataset('titanic')"
   ]
  },
  {
   "cell_type": "code",
   "execution_count": 2,
   "id": "160e2034-9d95-454a-9182-fc82d6c7cde7",
   "metadata": {},
   "outputs": [
    {
     "data": {
      "text/html": [
       "<div>\n",
       "<style scoped>\n",
       "    .dataframe tbody tr th:only-of-type {\n",
       "        vertical-align: middle;\n",
       "    }\n",
       "\n",
       "    .dataframe tbody tr th {\n",
       "        vertical-align: top;\n",
       "    }\n",
       "\n",
       "    .dataframe thead th {\n",
       "        text-align: right;\n",
       "    }\n",
       "</style>\n",
       "<table border=\"1\" class=\"dataframe\">\n",
       "  <thead>\n",
       "    <tr style=\"text-align: right;\">\n",
       "      <th></th>\n",
       "      <th>survived</th>\n",
       "      <th>pclass</th>\n",
       "      <th>sex</th>\n",
       "      <th>age</th>\n",
       "      <th>sibsp</th>\n",
       "      <th>parch</th>\n",
       "      <th>fare</th>\n",
       "      <th>embarked</th>\n",
       "      <th>class</th>\n",
       "      <th>who</th>\n",
       "      <th>adult_male</th>\n",
       "      <th>deck</th>\n",
       "      <th>embark_town</th>\n",
       "      <th>alive</th>\n",
       "      <th>alone</th>\n",
       "    </tr>\n",
       "  </thead>\n",
       "  <tbody>\n",
       "    <tr>\n",
       "      <th>0</th>\n",
       "      <td>0</td>\n",
       "      <td>3</td>\n",
       "      <td>male</td>\n",
       "      <td>22.0</td>\n",
       "      <td>1</td>\n",
       "      <td>0</td>\n",
       "      <td>7.2500</td>\n",
       "      <td>S</td>\n",
       "      <td>Third</td>\n",
       "      <td>man</td>\n",
       "      <td>True</td>\n",
       "      <td>NaN</td>\n",
       "      <td>Southampton</td>\n",
       "      <td>no</td>\n",
       "      <td>False</td>\n",
       "    </tr>\n",
       "    <tr>\n",
       "      <th>1</th>\n",
       "      <td>1</td>\n",
       "      <td>1</td>\n",
       "      <td>female</td>\n",
       "      <td>38.0</td>\n",
       "      <td>1</td>\n",
       "      <td>0</td>\n",
       "      <td>71.2833</td>\n",
       "      <td>C</td>\n",
       "      <td>First</td>\n",
       "      <td>woman</td>\n",
       "      <td>False</td>\n",
       "      <td>C</td>\n",
       "      <td>Cherbourg</td>\n",
       "      <td>yes</td>\n",
       "      <td>False</td>\n",
       "    </tr>\n",
       "    <tr>\n",
       "      <th>2</th>\n",
       "      <td>1</td>\n",
       "      <td>3</td>\n",
       "      <td>female</td>\n",
       "      <td>26.0</td>\n",
       "      <td>0</td>\n",
       "      <td>0</td>\n",
       "      <td>7.9250</td>\n",
       "      <td>S</td>\n",
       "      <td>Third</td>\n",
       "      <td>woman</td>\n",
       "      <td>False</td>\n",
       "      <td>NaN</td>\n",
       "      <td>Southampton</td>\n",
       "      <td>yes</td>\n",
       "      <td>True</td>\n",
       "    </tr>\n",
       "    <tr>\n",
       "      <th>3</th>\n",
       "      <td>1</td>\n",
       "      <td>1</td>\n",
       "      <td>female</td>\n",
       "      <td>35.0</td>\n",
       "      <td>1</td>\n",
       "      <td>0</td>\n",
       "      <td>53.1000</td>\n",
       "      <td>S</td>\n",
       "      <td>First</td>\n",
       "      <td>woman</td>\n",
       "      <td>False</td>\n",
       "      <td>C</td>\n",
       "      <td>Southampton</td>\n",
       "      <td>yes</td>\n",
       "      <td>False</td>\n",
       "    </tr>\n",
       "    <tr>\n",
       "      <th>4</th>\n",
       "      <td>0</td>\n",
       "      <td>3</td>\n",
       "      <td>male</td>\n",
       "      <td>35.0</td>\n",
       "      <td>0</td>\n",
       "      <td>0</td>\n",
       "      <td>8.0500</td>\n",
       "      <td>S</td>\n",
       "      <td>Third</td>\n",
       "      <td>man</td>\n",
       "      <td>True</td>\n",
       "      <td>NaN</td>\n",
       "      <td>Southampton</td>\n",
       "      <td>no</td>\n",
       "      <td>True</td>\n",
       "    </tr>\n",
       "  </tbody>\n",
       "</table>\n",
       "</div>"
      ],
      "text/plain": [
       "   survived  pclass     sex   age  sibsp  parch     fare embarked  class  \\\n",
       "0         0       3    male  22.0      1      0   7.2500        S  Third   \n",
       "1         1       1  female  38.0      1      0  71.2833        C  First   \n",
       "2         1       3  female  26.0      0      0   7.9250        S  Third   \n",
       "3         1       1  female  35.0      1      0  53.1000        S  First   \n",
       "4         0       3    male  35.0      0      0   8.0500        S  Third   \n",
       "\n",
       "     who  adult_male deck  embark_town alive  alone  \n",
       "0    man        True  NaN  Southampton    no  False  \n",
       "1  woman       False    C    Cherbourg   yes  False  \n",
       "2  woman       False  NaN  Southampton   yes   True  \n",
       "3  woman       False    C  Southampton   yes  False  \n",
       "4    man        True  NaN  Southampton    no   True  "
      ]
     },
     "execution_count": 2,
     "metadata": {},
     "output_type": "execute_result"
    }
   ],
   "source": [
    "df=titanic\n",
    "df.head()"
   ]
  },
  {
   "cell_type": "code",
   "execution_count": 3,
   "id": "09b603db-35b4-4ec4-8ba4-8b90b3304083",
   "metadata": {},
   "outputs": [
    {
     "data": {
      "text/plain": [
       "Index(['survived', 'pclass', 'sex', 'age', 'sibsp', 'parch', 'fare',\n",
       "       'embarked', 'class', 'who', 'adult_male', 'deck', 'embark_town',\n",
       "       'alive', 'alone'],\n",
       "      dtype='object')"
      ]
     },
     "execution_count": 3,
     "metadata": {},
     "output_type": "execute_result"
    }
   ],
   "source": [
    "df.columns"
   ]
  },
  {
   "cell_type": "code",
   "execution_count": 4,
   "id": "e95e69bb-ab62-45e1-b666-033e31190492",
   "metadata": {},
   "outputs": [
    {
     "data": {
      "text/plain": [
       "(891, 15)"
      ]
     },
     "execution_count": 4,
     "metadata": {},
     "output_type": "execute_result"
    }
   ],
   "source": [
    "df.shape"
   ]
  },
  {
   "cell_type": "code",
   "execution_count": 5,
   "id": "2b7744a6-e44d-425d-8936-8efc96b4ee20",
   "metadata": {},
   "outputs": [
    {
     "name": "stdout",
     "output_type": "stream",
     "text": [
      "<class 'pandas.core.frame.DataFrame'>\n",
      "RangeIndex: 891 entries, 0 to 890\n",
      "Data columns (total 15 columns):\n",
      " #   Column       Non-Null Count  Dtype   \n",
      "---  ------       --------------  -----   \n",
      " 0   survived     891 non-null    int64   \n",
      " 1   pclass       891 non-null    int64   \n",
      " 2   sex          891 non-null    object  \n",
      " 3   age          714 non-null    float64 \n",
      " 4   sibsp        891 non-null    int64   \n",
      " 5   parch        891 non-null    int64   \n",
      " 6   fare         891 non-null    float64 \n",
      " 7   embarked     889 non-null    object  \n",
      " 8   class        891 non-null    category\n",
      " 9   who          891 non-null    object  \n",
      " 10  adult_male   891 non-null    bool    \n",
      " 11  deck         203 non-null    category\n",
      " 12  embark_town  889 non-null    object  \n",
      " 13  alive        891 non-null    object  \n",
      " 14  alone        891 non-null    bool    \n",
      "dtypes: bool(2), category(2), float64(2), int64(4), object(5)\n",
      "memory usage: 80.7+ KB\n"
     ]
    }
   ],
   "source": [
    "df.info()"
   ]
  },
  {
   "cell_type": "markdown",
   "id": "bf5f7dd2-f503-4a0b-baa5-1f3b62b93378",
   "metadata": {},
   "source": [
    "## Ejercicio 1\n",
    "Calcula la frecuencia de los pasajeros por clase (Pclass) y por sexo (Sex).\n",
    "\n",
    "Calcula también la frecuencia de supervivencia (Survived).\n",
    "\n",
    "Calcula las frecuencias porcentuales."
   ]
  },
  {
   "cell_type": "code",
   "execution_count": 6,
   "id": "f3338636-505f-46e3-884e-1159cfbf4645",
   "metadata": {},
   "outputs": [
    {
     "data": {
      "text/plain": [
       "(pclass\n",
       " 3    55.106622\n",
       " 1    24.242424\n",
       " 2    20.650954\n",
       " Name: proportion, dtype: float64,\n",
       " sex\n",
       " male      64.758698\n",
       " female    35.241302\n",
       " Name: proportion, dtype: float64,\n",
       " survived\n",
       " 0    61.616162\n",
       " 1    38.383838\n",
       " Name: proportion, dtype: float64)"
      ]
     },
     "execution_count": 6,
     "metadata": {},
     "output_type": "execute_result"
    }
   ],
   "source": [
    "Frecxclass = df['pclass'].value_counts(normalize=True) * 100\n",
    "Frecxsex = df['sex'].value_counts(normalize=True) * 100\n",
    "Frecxsurvived = df['survived'].value_counts(normalize=True) * 100\n",
    "Resultados=(Frecxclass, Frecxsex, Frecxsurvived)\n",
    "Resultados"
   ]
  },
  {
   "cell_type": "markdown",
   "id": "e07289c1-d872-4c63-a112-ff7acb4df396",
   "metadata": {},
   "source": [
    "## Ejercicio 2\n",
    "\n",
    "Medidas de Tendencia Central:\n",
    "\n",
    "Calcula la media, mediana y moda de las edades (Age).\n",
    "\n",
    "Calcula también la media de las tarifas (Fare) solo para los pasajeros de primera clase (Pclass == 1)."
   ]
  },
  {
   "cell_type": "code",
   "execution_count": 7,
   "id": "b1611d59-d5d4-4d8d-9ae2-5f0fd1fc0295",
   "metadata": {},
   "outputs": [
    {
     "data": {
      "text/plain": [
       "(29.69911764705882,\n",
       " 28.0,\n",
       " 0    24.0\n",
       " Name: age, dtype: float64)"
      ]
     },
     "execution_count": 7,
     "metadata": {},
     "output_type": "execute_result"
    }
   ],
   "source": [
    "#Calcula la media, mediana y moda de las edades (Age).\n",
    "media_age = df['age'].mean()\n",
    "mediana_age = df['age'].median()\n",
    "moda_age = df['age'].mode()\n",
    "Resultados2=(media_age, mediana_age, moda_age)\n",
    "Resultados2"
   ]
  },
  {
   "cell_type": "code",
   "execution_count": 8,
   "id": "d643997b-a645-4e44-800e-af06fae0438f",
   "metadata": {},
   "outputs": [
    {
     "data": {
      "text/plain": [
       "84.1546875"
      ]
     },
     "execution_count": 8,
     "metadata": {},
     "output_type": "execute_result"
    }
   ],
   "source": [
    "#Calcula también la media de las tarifas (Fare) solo para los pasajeros de primera clase (Pclass == 1).\n",
    "primeraclase = df[df[\"pclass\"] == 1]\n",
    "media_tarifapclss1=primeraclase[\"fare\"].mean()\n",
    "media_tarifapclss1"
   ]
  },
  {
   "cell_type": "markdown",
   "id": "e0605f60-7917-4f62-a900-97dba90b7db0",
   "metadata": {},
   "source": [
    "## Ejercicio 3\n",
    "\n",
    "Medidas de Dispersión:\n",
    "\n",
    "Calcula la desviación estándar, varianza, rango y rango intercuartil (IQR) de las tarifas (Fare).\n",
    "\n",
    "Calcula el rango intercuartil (IQR) de las edades (Age) para los sobrevivientes (Survived == 1)."
   ]
  },
  {
   "cell_type": "code",
   "execution_count": 9,
   "id": "423c303f-bc7b-4fc8-80ee-7a5bdb4f69be",
   "metadata": {},
   "outputs": [
    {
     "name": "stdout",
     "output_type": "stream",
     "text": [
      "la desviación estándar de las tarifas (Fare) es 49.693428597180905, la varianza es 2469.436845743117, el rango es 512.3292 y el rango intercuartil es de 23.0896\n"
     ]
    }
   ],
   "source": [
    "#Calcula la desviación estándar, varianza, rango y rango intercuartil (IQR) de las tarifas (Fare).\n",
    "fare_std = df['fare'].std()\n",
    "fare_var = df['fare'].var()\n",
    "fare_rango = df['fare'].max() - df['fare'].min()\n",
    "Q1 = df['fare'].quantile(0.25)\n",
    "Q3 = df['fare'].quantile(0.75)\n",
    "IQR = Q3 - Q1\n",
    "print(f\"la desviación estándar de las tarifas (Fare) es {fare_std}, la varianza es {fare_var}, el rango es {fare_rango} y el rango intercuartil es de {IQR}\")"
   ]
  },
  {
   "cell_type": "code",
   "execution_count": 10,
   "id": "a72b3ab3-3b00-4df3-8c07-33dc9e1e7fd5",
   "metadata": {},
   "outputs": [
    {
     "data": {
      "text/plain": [
       "17.0"
      ]
     },
     "execution_count": 10,
     "metadata": {},
     "output_type": "execute_result"
    }
   ],
   "source": [
    "#calcula el rango intercuartil (IQR) de las edades (Age) para los sobrevivientes (Survived == 1)\n",
    "sobrevivientes = df[df['survived'] == 1]\n",
    "svq1 = sobrevivientes['age'].quantile(0.25)\n",
    "svq3 = sobrevivientes['age'].quantile(0.75)\n",
    "IQSV = svq3 - svq1\n",
    "IQSV\n"
   ]
  },
  {
   "cell_type": "markdown",
   "id": "6010e837-fbff-41df-80e6-5b51d6ae5242",
   "metadata": {},
   "source": [
    "## Ejercicio 4\n",
    "Percentiles y Cuartiles\n",
    "\n",
    "En lugar de solo calcular percentiles específicos, calcula todos los percentiles (0-100) para las tarifas (Fare)."
   ]
  },
  {
   "cell_type": "code",
   "execution_count": 11,
   "id": "bfb40f6e-72d6-4141-bab5-5f39fe793f65",
   "metadata": {},
   "outputs": [
    {
     "name": "stdout",
     "output_type": "stream",
     "text": [
      "Precentiles del 0% al 100%\n",
      "0.00      0.00000\n",
      "0.01      0.00000\n",
      "0.02      6.39750\n",
      "0.03      6.97500\n",
      "0.04      7.05252\n",
      "          ...    \n",
      "0.96    133.99000\n",
      "0.97    151.55000\n",
      "0.98    211.33750\n",
      "0.99    249.00622\n",
      "1.00    512.32920\n",
      "Name: fare, Length: 101, dtype: float64\n"
     ]
    }
   ],
   "source": [
    "# Calculo de los percentiles del 0 al 100\n",
    "percentiles = df['fare'].quantile([i/100 for i in range(101)])\n",
    "print(\"Precentiles del 0% al 100%\")\n",
    "print(percentiles)"
   ]
  },
  {
   "cell_type": "markdown",
   "id": "6265db4f-b12e-4bd3-a223-11993b97c946",
   "metadata": {},
   "source": [
    "## Ejercicio 5\n",
    "\n",
    "Resumen Estadístico:\n",
    "\n",
    "Realiza un resumen estadístico de todo el DataFrame.\n",
    "\n",
    "Realiza un resumen estadístico separado para los sobrevivientes (Survived == 1) y para los que no sobrevivieron (Survived == 0) considerando en principio su clase (Pclass) y otro resumen separado para los sobrevivientes (Survived == 1) y para los que no sobrevivieron (Survived == 0) considerando su sexo (Sex)."
   ]
  },
  {
   "cell_type": "code",
   "execution_count": 13,
   "id": "cf2e3620-1ee9-4fca-9004-117cd499dd4b",
   "metadata": {},
   "outputs": [
    {
     "data": {
      "text/html": [
       "<div>\n",
       "<style scoped>\n",
       "    .dataframe tbody tr th:only-of-type {\n",
       "        vertical-align: middle;\n",
       "    }\n",
       "\n",
       "    .dataframe tbody tr th {\n",
       "        vertical-align: top;\n",
       "    }\n",
       "\n",
       "    .dataframe thead th {\n",
       "        text-align: right;\n",
       "    }\n",
       "</style>\n",
       "<table border=\"1\" class=\"dataframe\">\n",
       "  <thead>\n",
       "    <tr style=\"text-align: right;\">\n",
       "      <th></th>\n",
       "      <th>survived</th>\n",
       "      <th>pclass</th>\n",
       "      <th>sex</th>\n",
       "      <th>age</th>\n",
       "      <th>sibsp</th>\n",
       "      <th>parch</th>\n",
       "      <th>fare</th>\n",
       "      <th>embarked</th>\n",
       "      <th>class</th>\n",
       "      <th>who</th>\n",
       "      <th>adult_male</th>\n",
       "      <th>deck</th>\n",
       "      <th>embark_town</th>\n",
       "      <th>alive</th>\n",
       "      <th>alone</th>\n",
       "    </tr>\n",
       "  </thead>\n",
       "  <tbody>\n",
       "    <tr>\n",
       "      <th>count</th>\n",
       "      <td>891.000000</td>\n",
       "      <td>891.000000</td>\n",
       "      <td>891</td>\n",
       "      <td>714.000000</td>\n",
       "      <td>891.000000</td>\n",
       "      <td>891.000000</td>\n",
       "      <td>891.000000</td>\n",
       "      <td>889</td>\n",
       "      <td>891</td>\n",
       "      <td>891</td>\n",
       "      <td>891</td>\n",
       "      <td>203</td>\n",
       "      <td>889</td>\n",
       "      <td>891</td>\n",
       "      <td>891</td>\n",
       "    </tr>\n",
       "    <tr>\n",
       "      <th>unique</th>\n",
       "      <td>NaN</td>\n",
       "      <td>NaN</td>\n",
       "      <td>2</td>\n",
       "      <td>NaN</td>\n",
       "      <td>NaN</td>\n",
       "      <td>NaN</td>\n",
       "      <td>NaN</td>\n",
       "      <td>3</td>\n",
       "      <td>3</td>\n",
       "      <td>3</td>\n",
       "      <td>2</td>\n",
       "      <td>7</td>\n",
       "      <td>3</td>\n",
       "      <td>2</td>\n",
       "      <td>2</td>\n",
       "    </tr>\n",
       "    <tr>\n",
       "      <th>top</th>\n",
       "      <td>NaN</td>\n",
       "      <td>NaN</td>\n",
       "      <td>male</td>\n",
       "      <td>NaN</td>\n",
       "      <td>NaN</td>\n",
       "      <td>NaN</td>\n",
       "      <td>NaN</td>\n",
       "      <td>S</td>\n",
       "      <td>Third</td>\n",
       "      <td>man</td>\n",
       "      <td>True</td>\n",
       "      <td>C</td>\n",
       "      <td>Southampton</td>\n",
       "      <td>no</td>\n",
       "      <td>True</td>\n",
       "    </tr>\n",
       "    <tr>\n",
       "      <th>freq</th>\n",
       "      <td>NaN</td>\n",
       "      <td>NaN</td>\n",
       "      <td>577</td>\n",
       "      <td>NaN</td>\n",
       "      <td>NaN</td>\n",
       "      <td>NaN</td>\n",
       "      <td>NaN</td>\n",
       "      <td>644</td>\n",
       "      <td>491</td>\n",
       "      <td>537</td>\n",
       "      <td>537</td>\n",
       "      <td>59</td>\n",
       "      <td>644</td>\n",
       "      <td>549</td>\n",
       "      <td>537</td>\n",
       "    </tr>\n",
       "    <tr>\n",
       "      <th>mean</th>\n",
       "      <td>0.383838</td>\n",
       "      <td>2.308642</td>\n",
       "      <td>NaN</td>\n",
       "      <td>29.699118</td>\n",
       "      <td>0.523008</td>\n",
       "      <td>0.381594</td>\n",
       "      <td>32.204208</td>\n",
       "      <td>NaN</td>\n",
       "      <td>NaN</td>\n",
       "      <td>NaN</td>\n",
       "      <td>NaN</td>\n",
       "      <td>NaN</td>\n",
       "      <td>NaN</td>\n",
       "      <td>NaN</td>\n",
       "      <td>NaN</td>\n",
       "    </tr>\n",
       "    <tr>\n",
       "      <th>std</th>\n",
       "      <td>0.486592</td>\n",
       "      <td>0.836071</td>\n",
       "      <td>NaN</td>\n",
       "      <td>14.526497</td>\n",
       "      <td>1.102743</td>\n",
       "      <td>0.806057</td>\n",
       "      <td>49.693429</td>\n",
       "      <td>NaN</td>\n",
       "      <td>NaN</td>\n",
       "      <td>NaN</td>\n",
       "      <td>NaN</td>\n",
       "      <td>NaN</td>\n",
       "      <td>NaN</td>\n",
       "      <td>NaN</td>\n",
       "      <td>NaN</td>\n",
       "    </tr>\n",
       "    <tr>\n",
       "      <th>min</th>\n",
       "      <td>0.000000</td>\n",
       "      <td>1.000000</td>\n",
       "      <td>NaN</td>\n",
       "      <td>0.420000</td>\n",
       "      <td>0.000000</td>\n",
       "      <td>0.000000</td>\n",
       "      <td>0.000000</td>\n",
       "      <td>NaN</td>\n",
       "      <td>NaN</td>\n",
       "      <td>NaN</td>\n",
       "      <td>NaN</td>\n",
       "      <td>NaN</td>\n",
       "      <td>NaN</td>\n",
       "      <td>NaN</td>\n",
       "      <td>NaN</td>\n",
       "    </tr>\n",
       "    <tr>\n",
       "      <th>25%</th>\n",
       "      <td>0.000000</td>\n",
       "      <td>2.000000</td>\n",
       "      <td>NaN</td>\n",
       "      <td>20.125000</td>\n",
       "      <td>0.000000</td>\n",
       "      <td>0.000000</td>\n",
       "      <td>7.910400</td>\n",
       "      <td>NaN</td>\n",
       "      <td>NaN</td>\n",
       "      <td>NaN</td>\n",
       "      <td>NaN</td>\n",
       "      <td>NaN</td>\n",
       "      <td>NaN</td>\n",
       "      <td>NaN</td>\n",
       "      <td>NaN</td>\n",
       "    </tr>\n",
       "    <tr>\n",
       "      <th>50%</th>\n",
       "      <td>0.000000</td>\n",
       "      <td>3.000000</td>\n",
       "      <td>NaN</td>\n",
       "      <td>28.000000</td>\n",
       "      <td>0.000000</td>\n",
       "      <td>0.000000</td>\n",
       "      <td>14.454200</td>\n",
       "      <td>NaN</td>\n",
       "      <td>NaN</td>\n",
       "      <td>NaN</td>\n",
       "      <td>NaN</td>\n",
       "      <td>NaN</td>\n",
       "      <td>NaN</td>\n",
       "      <td>NaN</td>\n",
       "      <td>NaN</td>\n",
       "    </tr>\n",
       "    <tr>\n",
       "      <th>75%</th>\n",
       "      <td>1.000000</td>\n",
       "      <td>3.000000</td>\n",
       "      <td>NaN</td>\n",
       "      <td>38.000000</td>\n",
       "      <td>1.000000</td>\n",
       "      <td>0.000000</td>\n",
       "      <td>31.000000</td>\n",
       "      <td>NaN</td>\n",
       "      <td>NaN</td>\n",
       "      <td>NaN</td>\n",
       "      <td>NaN</td>\n",
       "      <td>NaN</td>\n",
       "      <td>NaN</td>\n",
       "      <td>NaN</td>\n",
       "      <td>NaN</td>\n",
       "    </tr>\n",
       "    <tr>\n",
       "      <th>max</th>\n",
       "      <td>1.000000</td>\n",
       "      <td>3.000000</td>\n",
       "      <td>NaN</td>\n",
       "      <td>80.000000</td>\n",
       "      <td>8.000000</td>\n",
       "      <td>6.000000</td>\n",
       "      <td>512.329200</td>\n",
       "      <td>NaN</td>\n",
       "      <td>NaN</td>\n",
       "      <td>NaN</td>\n",
       "      <td>NaN</td>\n",
       "      <td>NaN</td>\n",
       "      <td>NaN</td>\n",
       "      <td>NaN</td>\n",
       "      <td>NaN</td>\n",
       "    </tr>\n",
       "  </tbody>\n",
       "</table>\n",
       "</div>"
      ],
      "text/plain": [
       "          survived      pclass   sex         age       sibsp       parch  \\\n",
       "count   891.000000  891.000000   891  714.000000  891.000000  891.000000   \n",
       "unique         NaN         NaN     2         NaN         NaN         NaN   \n",
       "top            NaN         NaN  male         NaN         NaN         NaN   \n",
       "freq           NaN         NaN   577         NaN         NaN         NaN   \n",
       "mean      0.383838    2.308642   NaN   29.699118    0.523008    0.381594   \n",
       "std       0.486592    0.836071   NaN   14.526497    1.102743    0.806057   \n",
       "min       0.000000    1.000000   NaN    0.420000    0.000000    0.000000   \n",
       "25%       0.000000    2.000000   NaN   20.125000    0.000000    0.000000   \n",
       "50%       0.000000    3.000000   NaN   28.000000    0.000000    0.000000   \n",
       "75%       1.000000    3.000000   NaN   38.000000    1.000000    0.000000   \n",
       "max       1.000000    3.000000   NaN   80.000000    8.000000    6.000000   \n",
       "\n",
       "              fare embarked  class  who adult_male deck  embark_town alive  \\\n",
       "count   891.000000      889    891  891        891  203          889   891   \n",
       "unique         NaN        3      3    3          2    7            3     2   \n",
       "top            NaN        S  Third  man       True    C  Southampton    no   \n",
       "freq           NaN      644    491  537        537   59          644   549   \n",
       "mean     32.204208      NaN    NaN  NaN        NaN  NaN          NaN   NaN   \n",
       "std      49.693429      NaN    NaN  NaN        NaN  NaN          NaN   NaN   \n",
       "min       0.000000      NaN    NaN  NaN        NaN  NaN          NaN   NaN   \n",
       "25%       7.910400      NaN    NaN  NaN        NaN  NaN          NaN   NaN   \n",
       "50%      14.454200      NaN    NaN  NaN        NaN  NaN          NaN   NaN   \n",
       "75%      31.000000      NaN    NaN  NaN        NaN  NaN          NaN   NaN   \n",
       "max     512.329200      NaN    NaN  NaN        NaN  NaN          NaN   NaN   \n",
       "\n",
       "       alone  \n",
       "count    891  \n",
       "unique     2  \n",
       "top     True  \n",
       "freq     537  \n",
       "mean     NaN  \n",
       "std      NaN  \n",
       "min      NaN  \n",
       "25%      NaN  \n",
       "50%      NaN  \n",
       "75%      NaN  \n",
       "max      NaN  "
      ]
     },
     "execution_count": 13,
     "metadata": {},
     "output_type": "execute_result"
    }
   ],
   "source": [
    "df.describe(include = 'all')"
   ]
  },
  {
   "cell_type": "code",
   "execution_count": 26,
   "id": "88b8544c-a3d3-4551-9fe4-e4df7cdb6d09",
   "metadata": {},
   "outputs": [
    {
     "data": {
      "text/plain": [
       "count    342.000000\n",
       "mean       1.950292\n",
       "std        0.863321\n",
       "min        1.000000\n",
       "25%        1.000000\n",
       "50%        2.000000\n",
       "75%        3.000000\n",
       "max        3.000000\n",
       "Name: pclass, dtype: float64"
      ]
     },
     "execution_count": 26,
     "metadata": {},
     "output_type": "execute_result"
    }
   ],
   "source": [
    "sobrevivientes = df[df['survived'] == 1]\n",
    "grup1= sobrevivientes['pclass'].describe()\n",
    "grup1"
   ]
  },
  {
   "cell_type": "code",
   "execution_count": 27,
   "id": "a6bdf96a-0bda-4079-9e36-be048e23ba4f",
   "metadata": {},
   "outputs": [
    {
     "data": {
      "text/plain": [
       "count    549.000000\n",
       "mean       2.531876\n",
       "std        0.735805\n",
       "min        1.000000\n",
       "25%        2.000000\n",
       "50%        3.000000\n",
       "75%        3.000000\n",
       "max        3.000000\n",
       "Name: pclass, dtype: float64"
      ]
     },
     "execution_count": 27,
     "metadata": {},
     "output_type": "execute_result"
    }
   ],
   "source": [
    "nosobrevivientes = df[df['survived'] == 0]\n",
    "grup2= nosobrevivientes['pclass'].describe()\n",
    "grup2"
   ]
  },
  {
   "cell_type": "code",
   "execution_count": 29,
   "id": "fd36eb90-16f2-4f04-a93b-e7a26afa4f31",
   "metadata": {},
   "outputs": [
    {
     "data": {
      "text/html": [
       "<div>\n",
       "<style scoped>\n",
       "    .dataframe tbody tr th:only-of-type {\n",
       "        vertical-align: middle;\n",
       "    }\n",
       "\n",
       "    .dataframe tbody tr th {\n",
       "        vertical-align: top;\n",
       "    }\n",
       "\n",
       "    .dataframe thead th {\n",
       "        text-align: right;\n",
       "    }\n",
       "</style>\n",
       "<table border=\"1\" class=\"dataframe\">\n",
       "  <thead>\n",
       "    <tr style=\"text-align: right;\">\n",
       "      <th></th>\n",
       "      <th>count</th>\n",
       "      <th>mean</th>\n",
       "      <th>std</th>\n",
       "      <th>min</th>\n",
       "      <th>25%</th>\n",
       "      <th>50%</th>\n",
       "      <th>75%</th>\n",
       "      <th>max</th>\n",
       "    </tr>\n",
       "    <tr>\n",
       "      <th>survived</th>\n",
       "      <th></th>\n",
       "      <th></th>\n",
       "      <th></th>\n",
       "      <th></th>\n",
       "      <th></th>\n",
       "      <th></th>\n",
       "      <th></th>\n",
       "      <th></th>\n",
       "    </tr>\n",
       "  </thead>\n",
       "  <tbody>\n",
       "    <tr>\n",
       "      <th>0</th>\n",
       "      <td>549.0</td>\n",
       "      <td>2.531876</td>\n",
       "      <td>0.735805</td>\n",
       "      <td>1.0</td>\n",
       "      <td>2.0</td>\n",
       "      <td>3.0</td>\n",
       "      <td>3.0</td>\n",
       "      <td>3.0</td>\n",
       "    </tr>\n",
       "    <tr>\n",
       "      <th>1</th>\n",
       "      <td>342.0</td>\n",
       "      <td>1.950292</td>\n",
       "      <td>0.863321</td>\n",
       "      <td>1.0</td>\n",
       "      <td>1.0</td>\n",
       "      <td>2.0</td>\n",
       "      <td>3.0</td>\n",
       "      <td>3.0</td>\n",
       "    </tr>\n",
       "  </tbody>\n",
       "</table>\n",
       "</div>"
      ],
      "text/plain": [
       "          count      mean       std  min  25%  50%  75%  max\n",
       "survived                                                    \n",
       "0         549.0  2.531876  0.735805  1.0  2.0  3.0  3.0  3.0\n",
       "1         342.0  1.950292  0.863321  1.0  1.0  2.0  3.0  3.0"
      ]
     },
     "execution_count": 29,
     "metadata": {},
     "output_type": "execute_result"
    }
   ],
   "source": [
    "resumen3 = df.groupby('survived', observed=True)['pclass'].describe()\n",
    "resumen3"
   ]
  },
  {
   "cell_type": "code",
   "execution_count": 23,
   "id": "1eef3c13-3601-4cf8-bc83-243a45a87921",
   "metadata": {},
   "outputs": [
    {
     "data": {
      "text/html": [
       "<div>\n",
       "<style scoped>\n",
       "    .dataframe tbody tr th:only-of-type {\n",
       "        vertical-align: middle;\n",
       "    }\n",
       "\n",
       "    .dataframe tbody tr th {\n",
       "        vertical-align: top;\n",
       "    }\n",
       "\n",
       "    .dataframe thead th {\n",
       "        text-align: right;\n",
       "    }\n",
       "</style>\n",
       "<table border=\"1\" class=\"dataframe\">\n",
       "  <thead>\n",
       "    <tr style=\"text-align: right;\">\n",
       "      <th></th>\n",
       "      <th>count</th>\n",
       "      <th>unique</th>\n",
       "      <th>top</th>\n",
       "      <th>freq</th>\n",
       "    </tr>\n",
       "    <tr>\n",
       "      <th>survived</th>\n",
       "      <th></th>\n",
       "      <th></th>\n",
       "      <th></th>\n",
       "      <th></th>\n",
       "    </tr>\n",
       "  </thead>\n",
       "  <tbody>\n",
       "    <tr>\n",
       "      <th>0</th>\n",
       "      <td>549</td>\n",
       "      <td>2</td>\n",
       "      <td>male</td>\n",
       "      <td>468</td>\n",
       "    </tr>\n",
       "    <tr>\n",
       "      <th>1</th>\n",
       "      <td>342</td>\n",
       "      <td>2</td>\n",
       "      <td>female</td>\n",
       "      <td>233</td>\n",
       "    </tr>\n",
       "  </tbody>\n",
       "</table>\n",
       "</div>"
      ],
      "text/plain": [
       "         count unique     top freq\n",
       "survived                          \n",
       "0          549      2    male  468\n",
       "1          342      2  female  233"
      ]
     },
     "execution_count": 23,
     "metadata": {},
     "output_type": "execute_result"
    }
   ],
   "source": [
    "grup2= df.groupby('survived', observed=False)['sex'].describe()\n",
    "grup2"
   ]
  },
  {
   "cell_type": "markdown",
   "id": "6187c7a5-5fea-4174-9642-5f2adfe8d19e",
   "metadata": {},
   "source": [
    "## Ejercicio 6\n",
    "\n",
    "Covarianza y Correlación:\n",
    "\n",
    "Calcula la covarianza entre la edad (Age) y la tarifa (Fare).\n",
    "\n",
    "Calcula la matriz de correlación para las variables numéricas del dataset."
   ]
  },
  {
   "cell_type": "code",
   "execution_count": 31,
   "id": "201acb23-6d1b-4737-b175-ea683c36b606",
   "metadata": {},
   "outputs": [
    {
     "data": {
      "text/plain": [
       "73.84902981461926"
      ]
     },
     "execution_count": 31,
     "metadata": {},
     "output_type": "execute_result"
    }
   ],
   "source": [
    "#Covarianza con pandas\n",
    "df['age'].cov(df['fare'])"
   ]
  },
  {
   "cell_type": "code",
   "execution_count": 32,
   "id": "9c6cda6d-a671-4584-9372-9ec57c695476",
   "metadata": {},
   "outputs": [
    {
     "data": {
      "text/plain": [
       "array([[          nan,           nan],\n",
       "       [          nan, 2469.43684574]])"
      ]
     },
     "execution_count": 32,
     "metadata": {},
     "output_type": "execute_result"
    }
   ],
   "source": [
    "#Covarianza con numpy\n",
    "np.cov(df['age'], df['fare'])"
   ]
  },
  {
   "cell_type": "code",
   "execution_count": 34,
   "id": "1c30c4f7-ec1d-4d8a-8a68-0644f802e385",
   "metadata": {},
   "outputs": [
    {
     "name": "stdout",
     "output_type": "stream",
     "text": [
      "            survived    pclass       age     sibsp     parch      fare  \\\n",
      "survived    1.000000 -0.338481 -0.077221 -0.035322  0.081629  0.257307   \n",
      "pclass     -0.338481  1.000000 -0.369226  0.083081  0.018443 -0.549500   \n",
      "age        -0.077221 -0.369226  1.000000 -0.308247 -0.189119  0.096067   \n",
      "sibsp      -0.035322  0.083081 -0.308247  1.000000  0.414838  0.159651   \n",
      "parch       0.081629  0.018443 -0.189119  0.414838  1.000000  0.216225   \n",
      "fare        0.257307 -0.549500  0.096067  0.159651  0.216225  1.000000   \n",
      "adult_male -0.557080  0.094035  0.280328 -0.253586 -0.349943 -0.182024   \n",
      "\n",
      "            adult_male  \n",
      "survived     -0.557080  \n",
      "pclass        0.094035  \n",
      "age           0.280328  \n",
      "sibsp        -0.253586  \n",
      "parch        -0.349943  \n",
      "fare         -0.182024  \n",
      "adult_male    1.000000  \n"
     ]
    },
    {
     "data": {
      "image/png": "[encoded data removed]",
      "text/plain": [
       "<Figure size 1000x600 with 2 Axes>"
      ]
     },
     "metadata": {},
     "output_type": "display_data"
    }
   ],
   "source": [
    "#Para calcular la matriz de correlación para las variables númericas, tengo que hacer un dataset eliminando las columnas que no necesito\n",
    "# Eliminar columnas que no son útiles para la correlación\n",
    "df_cleaned = df.drop(columns=['sex', 'embarked', 'class', 'who', 'deck', 'embark_town', 'alive', 'alone'])\n",
    "\n",
    "# Ahora que las columnas irrelevantes han sido eliminadas, podemos generar la matriz de correlación\n",
    "correlation_matrix = df_cleaned.corr()\n",
    "\n",
    "# Mostrar la matriz de correlación\n",
    "print(correlation_matrix)\n",
    "\n",
    "# Visualizar la matriz de correlación con un heatmap -> eso me lo propuso chatGPT\n",
    "import seaborn as sns\n",
    "import matplotlib.pyplot as plt\n",
    "\n",
    "plt.figure(figsize=(10, 6))\n",
    "sns.heatmap(correlation_matrix, annot=True, cmap='coolwarm', fmt='.2f')\n",
    "plt.title('Matriz de Correlación después de eliminar columnas no útiles')\n",
    "plt.show()"
   ]
  },
  {
   "cell_type": "markdown",
   "id": "a2e6713b-ba42-41cb-b87c-f043dc1e5389",
   "metadata": {},
   "source": [
    "## Ejercicio 7\n",
    "\n",
    "Tablas de Contingencia:\n",
    "\n",
    "Calcula una tabla de contingencia entre Pclass y Survived."
   ]
  },
  {
   "cell_type": "code",
   "execution_count": 43,
   "id": "6e5aa0fc-c030-40da-9c4a-65a38796c4e5",
   "metadata": {},
   "outputs": [
    {
     "data": {
      "text/html": [
       "<div>\n",
       "<style scoped>\n",
       "    .dataframe tbody tr th:only-of-type {\n",
       "        vertical-align: middle;\n",
       "    }\n",
       "\n",
       "    .dataframe tbody tr th {\n",
       "        vertical-align: top;\n",
       "    }\n",
       "\n",
       "    .dataframe thead th {\n",
       "        text-align: right;\n",
       "    }\n",
       "</style>\n",
       "<table border=\"1\" class=\"dataframe\">\n",
       "  <thead>\n",
       "    <tr style=\"text-align: right;\">\n",
       "      <th>Sobreviviente</th>\n",
       "      <th>0</th>\n",
       "      <th>1</th>\n",
       "    </tr>\n",
       "    <tr>\n",
       "      <th>Clase</th>\n",
       "      <th></th>\n",
       "      <th></th>\n",
       "    </tr>\n",
       "  </thead>\n",
       "  <tbody>\n",
       "    <tr>\n",
       "      <th>1</th>\n",
       "      <td>80</td>\n",
       "      <td>136</td>\n",
       "    </tr>\n",
       "    <tr>\n",
       "      <th>2</th>\n",
       "      <td>97</td>\n",
       "      <td>87</td>\n",
       "    </tr>\n",
       "    <tr>\n",
       "      <th>3</th>\n",
       "      <td>372</td>\n",
       "      <td>119</td>\n",
       "    </tr>\n",
       "  </tbody>\n",
       "</table>\n",
       "</div>"
      ],
      "text/plain": [
       "Sobreviviente    0    1\n",
       "Clase                  \n",
       "1               80  136\n",
       "2               97   87\n",
       "3              372  119"
      ]
     },
     "execution_count": 43,
     "metadata": {},
     "output_type": "execute_result"
    }
   ],
   "source": [
    "tabla = pd.crosstab(pd.Series(df[\"pclass\"], name=\"Clase\"), pd.Series(df[\"survived\"], name=\"Sobreviviente\"))\n",
    "tabla"
   ]
  }
 ],
 "metadata": {
  "kernelspec": {
   "display_name": "Python 3 (ipykernel)",
   "language": "python",
   "name": "python3"
  },
  "language_info": {
   "codemirror_mode": {
    "name": "ipython",
    "version": 3
   },
   "file_extension": ".py",
   "mimetype": "text/x-python",
   "name": "python",
   "nbconvert_exporter": "python",
   "pygments_lexer": "ipython3",
   "version": "3.11.7"
  }
 },
 "nbformat": 4,
 "nbformat_minor": 5
}
