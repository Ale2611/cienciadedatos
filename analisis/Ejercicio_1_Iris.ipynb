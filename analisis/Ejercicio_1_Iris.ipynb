{
 "cells": [
  {
   "cell_type": "markdown",
   "id": "7c154817-abb0-46d6-8126-a4e7f0a2790b",
   "metadata": {},
   "source": [
    "## Ejercicio 1: Análisis del Dataset Iris\n",
    "\n",
    "**Objetivo**: Realizar un análisis exhaustivo del dataset Iris utilizando las técnicas vistas.\n",
    "\n",
    "### Instrucciones:\n",
    "1. **Medidas de Frecuencia**:\n",
    "   - Calcula la frecuencia de cada especie en el dataset Iris.\n",
    "   - Calcula las frecuencias porcentuales.\n",
    "\n",
    "2. **Medidas de Tendencia Central**:\n",
    "   - Calcula la media, mediana y moda de las variables `sepal length (cm)` y `petal length (cm)`.\n",
    "\n",
    "3. **Medidas de Dispersión**:\n",
    "   - Calcula la desviación estándar, varianza, rango y rango intercuartil (IQR) de las variables `sepal width (cm)` y `petal width (cm)`.\n",
    "\n",
    "4. **Percentiles y Cuartiles**:\n",
    "   - Calcula los percentiles 25, 50 (mediana) y 75 para `sepal length (cm)`.\n",
    "\n",
    "5. **Resumen Estadístico**:\n",
    "   - Realiza un resumen estadístico de todo el DataFrame.\n",
    "   - Realiza un resumen estadístico separado para cada especie considerando las cuatro variables del DataFrame.\n",
    "\n",
    "6. **Covarianza y Correlación**:\n",
    "   - Calcula la covarianza entre `sepal length (cm)` y `petal length (cm)`.\n",
    "   - Calcula la correlación entre `sepal length (cm)` y `petal length (cm)`."
   ]
  },
  {
   "cell_type": "code",
   "execution_count": 9,
   "id": "41cca437-b1a1-4192-89f6-e557f5a52be6",
   "metadata": {},
   "outputs": [],
   "source": [
    "import pandas as pd\n",
    "import numpy as np\n",
    "from sklearn.datasets import load_iris"
   ]
  },
  {
   "cell_type": "code",
   "execution_count": 10,
   "id": "befef998-34b0-45f7-94de-59ab3e7eade9",
   "metadata": {},
   "outputs": [],
   "source": [
    "iris = load_iris()"
   ]
  },
  {
   "cell_type": "code",
   "execution_count": 11,
   "id": "514e6b44-a9e2-4a88-ab37-e15d82f39c9e",
   "metadata": {},
   "outputs": [],
   "source": [
    "df = pd.DataFrame(data = iris.data, columns=iris.feature_names)"
   ]
  },
  {
   "cell_type": "code",
   "execution_count": 12,
   "id": "6e64ddd4-1466-4656-b411-04cbc04c63d3",
   "metadata": {},
   "outputs": [],
   "source": [
    "#agregación de las etiquetas\n",
    "df['species'] = pd.Categorical.from_codes(iris.target, iris.target_names)"
   ]
  },
  {
   "cell_type": "code",
   "execution_count": 13,
   "id": "9c99e607-b89f-4e93-b2c0-f1c7c8b199dc",
   "metadata": {},
   "outputs": [
    {
     "data": {
      "text/plain": [
       "0         setosa\n",
       "1         setosa\n",
       "2         setosa\n",
       "3         setosa\n",
       "4         setosa\n",
       "         ...    \n",
       "145    virginica\n",
       "146    virginica\n",
       "147    virginica\n",
       "148    virginica\n",
       "149    virginica\n",
       "Name: species, Length: 150, dtype: category\n",
       "Categories (3, object): ['setosa', 'versicolor', 'virginica']"
      ]
     },
     "execution_count": 13,
     "metadata": {},
     "output_type": "execute_result"
    }
   ],
   "source": [
    "#Visualizar etiquetas\n",
    "df['species']"
   ]
  },
  {
   "cell_type": "markdown",
   "id": "5feaf193-5208-4adc-b2d2-2525f7adc11d",
   "metadata": {},
   "source": [
    "## Ejercicio 1"
   ]
  },
  {
   "cell_type": "code",
   "execution_count": 14,
   "id": "66243c7b-b5ce-413b-be21-2cfbfd5d0bca",
   "metadata": {},
   "outputs": [
    {
     "data": {
      "text/plain": [
       "species\n",
       "setosa        50\n",
       "versicolor    50\n",
       "virginica     50\n",
       "Name: count, dtype: int64"
      ]
     },
     "execution_count": 14,
     "metadata": {},
     "output_type": "execute_result"
    }
   ],
   "source": [
    "#Calcula la frecuencia de cada especie en el dataset Iris.\n",
    "contar_frec = df[\"species\"].value_counts()\n",
    "contar_frec"
   ]
  },
  {
   "cell_type": "code",
   "execution_count": 15,
   "id": "04ad75df-9597-4fc8-a4df-a2bd317bfb72",
   "metadata": {},
   "outputs": [
    {
     "data": {
      "text/plain": [
       "species\n",
       "setosa        33.333333\n",
       "versicolor    33.333333\n",
       "virginica     33.333333\n",
       "Name: proportion, dtype: float64"
      ]
     },
     "execution_count": 15,
     "metadata": {},
     "output_type": "execute_result"
    }
   ],
   "source": [
    "#Calcula las frecuencias porcentuales\n",
    "contar_porc = df[\"species\"].value_counts(normalize=True) *100\n",
    "contar_porc"
   ]
  },
  {
   "cell_type": "markdown",
   "id": "61001124-2de1-4631-b490-438a51dc598c",
   "metadata": {},
   "source": [
    "## Ejercicio 2"
   ]
  },
  {
   "cell_type": "code",
   "execution_count": 16,
   "id": "706672ec-c29f-4c1f-8eec-2779692f2b18",
   "metadata": {},
   "outputs": [
    {
     "name": "stdout",
     "output_type": "stream",
     "text": [
      "La media de 'sepal length (cm)' es de 5.843333333333334\n",
      "La mediana de 'sepal length (cm)' es de 5.8\n",
      "La media de 'sepal length (cm)' es de 0    5.0\n",
      "Name: sepal length (cm), dtype: float64\n"
     ]
    }
   ],
   "source": [
    "#Calcula la media, mediana y moda de las variables sepal length (cm) y petal length (cm).\n",
    "media_sepal = df[\"sepal length (cm)\"].mean()\n",
    "mediana_sepal = df[\"sepal length (cm)\"].median()\n",
    "mode_sepal = df[\"sepal length (cm)\"].mode()\n",
    "print(f\"La media de 'sepal length (cm)' es de {media_sepal}\")\n",
    "print(f\"La mediana de 'sepal length (cm)' es de {mediana_sepal}\")\n",
    "print(f\"La media de 'sepal length (cm)' es de {mode_sepal}\")\n"
   ]
  },
  {
   "cell_type": "markdown",
   "id": "397933df-e73b-46ef-bea4-5979fab4b907",
   "metadata": {},
   "source": [
    "## Ejercicio 3\n",
    "Calcula la desviación estándar, varianza, rango y rango intercuartil (IQR) de las variables sepal width (cm) y petal width (cm)."
   ]
  },
  {
   "cell_type": "code",
   "execution_count": 17,
   "id": "fbca1860-ca30-4402-b7d9-4fe8e1952599",
   "metadata": {},
   "outputs": [
    {
     "name": "stdout",
     "output_type": "stream",
     "text": [
      "la desviación estandar de petal width (cm) es de 0.7622376689603465 y la de sepal width (cm) es de 0.435866284936698\n"
     ]
    }
   ],
   "source": [
    "#calculo de las desviaciones estandares\n",
    "std_pw = df[\"petal width (cm)\"].std()\n",
    "std_sw = df['sepal width (cm)'].std()\n",
    "print(f\"la desviación estandar de petal width (cm) es de {std_pw} y la de sepal width (cm) es de {std_sw}\")"
   ]
  },
  {
   "cell_type": "code",
   "execution_count": 18,
   "id": "9f0cca1b-64c7-4ce6-af92-83fe5518c0b6",
   "metadata": {},
   "outputs": [
    {
     "name": "stdout",
     "output_type": "stream",
     "text": [
      "la varianza de petal width (cm) es de 0.5810062639821029 y la de sepal width (cm) es de 0.1899794183445188\n"
     ]
    }
   ],
   "source": [
    "#calculo de las varianzas\n",
    "var_pw = df[\"petal width (cm)\"].var()\n",
    "var_sw = df['sepal width (cm)'].var()\n",
    "var_sw\n",
    "print(f\"la varianza de petal width (cm) es de {var_pw} y la de sepal width (cm) es de {var_sw}\")"
   ]
  },
  {
   "cell_type": "code",
   "execution_count": 19,
   "id": "e543bc7a-0904-459e-8643-6b7a5daa74a8",
   "metadata": {},
   "outputs": [
    {
     "name": "stdout",
     "output_type": "stream",
     "text": [
      "el rango de la variable petal width (cm) es de 2.4 y el rango de sepal width (cm) es de 2.4000000000000004\n"
     ]
    }
   ],
   "source": [
    "#calculo de los rangos\n",
    "rango_pw= df['petal width (cm)'].max() - df['petal width (cm)'].min()\n",
    "rango_sw= df['sepal width (cm)'].max() - df['sepal width (cm)'].min()\n",
    "print(f\"el rango de la variable petal width (cm) es de {rango_pw} y el rango de sepal width (cm) es de {rango_sw}\")"
   ]
  },
  {
   "cell_type": "code",
   "execution_count": 20,
   "id": "1d70824e-4e5c-448e-9a03-a96a526dc2f2",
   "metadata": {},
   "outputs": [
    {
     "name": "stdout",
     "output_type": "stream",
     "text": [
      "el rango intercuartilo de petal width (cm) es1.5 y el rango intercuartil de separl width (cm) es 0.5\n"
     ]
    }
   ],
   "source": [
    "#calculo de los rangos intercuartil\n",
    "Q1_pw = df['petal width (cm)'].quantile(0.25)\n",
    "Q3_pw = df['petal width (cm)'].quantile(0.75)\n",
    "IQR_pw = Q3_pw - Q1_pw\n",
    "Q1_sw = df['sepal width (cm)'].quantile(0.25)\n",
    "Q3_sw = df['sepal width (cm)'].quantile(0.75)\n",
    "IQR_sw = Q3_sw - Q1_sw\n",
    "print(f\"el rango intercuartilo de petal width (cm) es{IQR_pw} y el rango intercuartil de separl width (cm) es {IQR_sw}\")"
   ]
  },
  {
   "cell_type": "markdown",
   "id": "8e6ecb8d-ee42-4d22-9a79-318aaff14278",
   "metadata": {},
   "source": [
    "## Ejercicio 4\n",
    "Calcula los percentiles 25, 50 (mediana) y 75 para sepal length (cm)."
   ]
  },
  {
   "cell_type": "code",
   "execution_count": 21,
   "id": "4ffe244e-133b-420e-aa69-d9002914d53f",
   "metadata": {},
   "outputs": [
    {
     "name": "stdout",
     "output_type": "stream",
     "text": [
      "Percentiles 25%, 50%, 75%: \n",
      "0.25    5.1\n",
      "0.50    5.8\n",
      "0.75    6.4\n",
      "Name: sepal length (cm), dtype: float64\n"
     ]
    }
   ],
   "source": [
    "# Calculo los percentiles 25%, 50%, 75%\n",
    "percentiles = df['sepal length (cm)'].quantile([0.25, 0.5, 0.75])\n",
    "print(\"Percentiles 25%, 50%, 75%: \")\n",
    "print(percentiles)"
   ]
  },
  {
   "cell_type": "markdown",
   "id": "0a18a13b-9ecd-4df4-b76b-0fe50e3b3c56",
   "metadata": {},
   "source": [
    "## Ejercicion 5\n",
    "Realiza un resumen estadístico de todo el DataFrame.\n",
    "Realiza un resumen estadístico separado para cada especie considerando las cuatro variables del DataFrame."
   ]
  },
  {
   "cell_type": "code",
   "execution_count": 22,
   "id": "22cf086d-b188-4bf3-b3d8-01749b03099f",
   "metadata": {},
   "outputs": [
    {
     "data": {
      "text/html": [
       "<div>\n",
       "<style scoped>\n",
       "    .dataframe tbody tr th:only-of-type {\n",
       "        vertical-align: middle;\n",
       "    }\n",
       "\n",
       "    .dataframe tbody tr th {\n",
       "        vertical-align: top;\n",
       "    }\n",
       "\n",
       "    .dataframe thead th {\n",
       "        text-align: right;\n",
       "    }\n",
       "</style>\n",
       "<table border=\"1\" class=\"dataframe\">\n",
       "  <thead>\n",
       "    <tr style=\"text-align: right;\">\n",
       "      <th></th>\n",
       "      <th>sepal length (cm)</th>\n",
       "      <th>sepal width (cm)</th>\n",
       "      <th>petal length (cm)</th>\n",
       "      <th>petal width (cm)</th>\n",
       "      <th>species</th>\n",
       "    </tr>\n",
       "  </thead>\n",
       "  <tbody>\n",
       "    <tr>\n",
       "      <th>count</th>\n",
       "      <td>150.000000</td>\n",
       "      <td>150.000000</td>\n",
       "      <td>150.000000</td>\n",
       "      <td>150.000000</td>\n",
       "      <td>150</td>\n",
       "    </tr>\n",
       "    <tr>\n",
       "      <th>unique</th>\n",
       "      <td>NaN</td>\n",
       "      <td>NaN</td>\n",
       "      <td>NaN</td>\n",
       "      <td>NaN</td>\n",
       "      <td>3</td>\n",
       "    </tr>\n",
       "    <tr>\n",
       "      <th>top</th>\n",
       "      <td>NaN</td>\n",
       "      <td>NaN</td>\n",
       "      <td>NaN</td>\n",
       "      <td>NaN</td>\n",
       "      <td>setosa</td>\n",
       "    </tr>\n",
       "    <tr>\n",
       "      <th>freq</th>\n",
       "      <td>NaN</td>\n",
       "      <td>NaN</td>\n",
       "      <td>NaN</td>\n",
       "      <td>NaN</td>\n",
       "      <td>50</td>\n",
       "    </tr>\n",
       "    <tr>\n",
       "      <th>mean</th>\n",
       "      <td>5.843333</td>\n",
       "      <td>3.057333</td>\n",
       "      <td>3.758000</td>\n",
       "      <td>1.199333</td>\n",
       "      <td>NaN</td>\n",
       "    </tr>\n",
       "    <tr>\n",
       "      <th>std</th>\n",
       "      <td>0.828066</td>\n",
       "      <td>0.435866</td>\n",
       "      <td>1.765298</td>\n",
       "      <td>0.762238</td>\n",
       "      <td>NaN</td>\n",
       "    </tr>\n",
       "    <tr>\n",
       "      <th>min</th>\n",
       "      <td>4.300000</td>\n",
       "      <td>2.000000</td>\n",
       "      <td>1.000000</td>\n",
       "      <td>0.100000</td>\n",
       "      <td>NaN</td>\n",
       "    </tr>\n",
       "    <tr>\n",
       "      <th>25%</th>\n",
       "      <td>5.100000</td>\n",
       "      <td>2.800000</td>\n",
       "      <td>1.600000</td>\n",
       "      <td>0.300000</td>\n",
       "      <td>NaN</td>\n",
       "    </tr>\n",
       "    <tr>\n",
       "      <th>50%</th>\n",
       "      <td>5.800000</td>\n",
       "      <td>3.000000</td>\n",
       "      <td>4.350000</td>\n",
       "      <td>1.300000</td>\n",
       "      <td>NaN</td>\n",
       "    </tr>\n",
       "    <tr>\n",
       "      <th>75%</th>\n",
       "      <td>6.400000</td>\n",
       "      <td>3.300000</td>\n",
       "      <td>5.100000</td>\n",
       "      <td>1.800000</td>\n",
       "      <td>NaN</td>\n",
       "    </tr>\n",
       "    <tr>\n",
       "      <th>max</th>\n",
       "      <td>7.900000</td>\n",
       "      <td>4.400000</td>\n",
       "      <td>6.900000</td>\n",
       "      <td>2.500000</td>\n",
       "      <td>NaN</td>\n",
       "    </tr>\n",
       "  </tbody>\n",
       "</table>\n",
       "</div>"
      ],
      "text/plain": [
       "        sepal length (cm)  sepal width (cm)  petal length (cm)  \\\n",
       "count          150.000000        150.000000         150.000000   \n",
       "unique                NaN               NaN                NaN   \n",
       "top                   NaN               NaN                NaN   \n",
       "freq                  NaN               NaN                NaN   \n",
       "mean             5.843333          3.057333           3.758000   \n",
       "std              0.828066          0.435866           1.765298   \n",
       "min              4.300000          2.000000           1.000000   \n",
       "25%              5.100000          2.800000           1.600000   \n",
       "50%              5.800000          3.000000           4.350000   \n",
       "75%              6.400000          3.300000           5.100000   \n",
       "max              7.900000          4.400000           6.900000   \n",
       "\n",
       "        petal width (cm) species  \n",
       "count         150.000000     150  \n",
       "unique               NaN       3  \n",
       "top                  NaN  setosa  \n",
       "freq                 NaN      50  \n",
       "mean            1.199333     NaN  \n",
       "std             0.762238     NaN  \n",
       "min             0.100000     NaN  \n",
       "25%             0.300000     NaN  \n",
       "50%             1.300000     NaN  \n",
       "75%             1.800000     NaN  \n",
       "max             2.500000     NaN  "
      ]
     },
     "execution_count": 22,
     "metadata": {},
     "output_type": "execute_result"
    }
   ],
   "source": [
    "#Resumen estadistico de todo el dataframe\n",
    "df.describe(include = 'all')"
   ]
  },
  {
   "cell_type": "code",
   "execution_count": 23,
   "id": "19f9c415-8cad-4d2d-8a4f-4f938a31502e",
   "metadata": {},
   "outputs": [
    {
     "data": {
      "text/html": [
       "<div>\n",
       "<style scoped>\n",
       "    .dataframe tbody tr th:only-of-type {\n",
       "        vertical-align: middle;\n",
       "    }\n",
       "\n",
       "    .dataframe tbody tr th {\n",
       "        vertical-align: top;\n",
       "    }\n",
       "\n",
       "    .dataframe thead th {\n",
       "        text-align: right;\n",
       "    }\n",
       "</style>\n",
       "<table border=\"1\" class=\"dataframe\">\n",
       "  <thead>\n",
       "    <tr style=\"text-align: right;\">\n",
       "      <th></th>\n",
       "      <th>count</th>\n",
       "      <th>mean</th>\n",
       "      <th>std</th>\n",
       "      <th>min</th>\n",
       "      <th>25%</th>\n",
       "      <th>50%</th>\n",
       "      <th>75%</th>\n",
       "      <th>max</th>\n",
       "    </tr>\n",
       "    <tr>\n",
       "      <th>species</th>\n",
       "      <th></th>\n",
       "      <th></th>\n",
       "      <th></th>\n",
       "      <th></th>\n",
       "      <th></th>\n",
       "      <th></th>\n",
       "      <th></th>\n",
       "      <th></th>\n",
       "    </tr>\n",
       "  </thead>\n",
       "  <tbody>\n",
       "    <tr>\n",
       "      <th>setosa</th>\n",
       "      <td>50.0</td>\n",
       "      <td>5.006</td>\n",
       "      <td>0.352490</td>\n",
       "      <td>4.3</td>\n",
       "      <td>4.800</td>\n",
       "      <td>5.0</td>\n",
       "      <td>5.2</td>\n",
       "      <td>5.8</td>\n",
       "    </tr>\n",
       "    <tr>\n",
       "      <th>versicolor</th>\n",
       "      <td>50.0</td>\n",
       "      <td>5.936</td>\n",
       "      <td>0.516171</td>\n",
       "      <td>4.9</td>\n",
       "      <td>5.600</td>\n",
       "      <td>5.9</td>\n",
       "      <td>6.3</td>\n",
       "      <td>7.0</td>\n",
       "    </tr>\n",
       "    <tr>\n",
       "      <th>virginica</th>\n",
       "      <td>50.0</td>\n",
       "      <td>6.588</td>\n",
       "      <td>0.635880</td>\n",
       "      <td>4.9</td>\n",
       "      <td>6.225</td>\n",
       "      <td>6.5</td>\n",
       "      <td>6.9</td>\n",
       "      <td>7.9</td>\n",
       "    </tr>\n",
       "  </tbody>\n",
       "</table>\n",
       "</div>"
      ],
      "text/plain": [
       "            count   mean       std  min    25%  50%  75%  max\n",
       "species                                                      \n",
       "setosa       50.0  5.006  0.352490  4.3  4.800  5.0  5.2  5.8\n",
       "versicolor   50.0  5.936  0.516171  4.9  5.600  5.9  6.3  7.0\n",
       "virginica    50.0  6.588  0.635880  4.9  6.225  6.5  6.9  7.9"
      ]
     },
     "execution_count": 23,
     "metadata": {},
     "output_type": "execute_result"
    }
   ],
   "source": [
    "resum_sl = df.groupby('species', observed=False)['sepal length (cm)'].describe()\n",
    "resum_sl"
   ]
  },
  {
   "cell_type": "code",
   "execution_count": 25,
   "id": "9c41f27a-9d26-4930-8ad9-04caa73fd79e",
   "metadata": {},
   "outputs": [
    {
     "data": {
      "text/html": [
       "<div>\n",
       "<style scoped>\n",
       "    .dataframe tbody tr th:only-of-type {\n",
       "        vertical-align: middle;\n",
       "    }\n",
       "\n",
       "    .dataframe tbody tr th {\n",
       "        vertical-align: top;\n",
       "    }\n",
       "\n",
       "    .dataframe thead th {\n",
       "        text-align: right;\n",
       "    }\n",
       "</style>\n",
       "<table border=\"1\" class=\"dataframe\">\n",
       "  <thead>\n",
       "    <tr style=\"text-align: right;\">\n",
       "      <th></th>\n",
       "      <th>count</th>\n",
       "      <th>mean</th>\n",
       "      <th>std</th>\n",
       "      <th>min</th>\n",
       "      <th>25%</th>\n",
       "      <th>50%</th>\n",
       "      <th>75%</th>\n",
       "      <th>max</th>\n",
       "    </tr>\n",
       "    <tr>\n",
       "      <th>species</th>\n",
       "      <th></th>\n",
       "      <th></th>\n",
       "      <th></th>\n",
       "      <th></th>\n",
       "      <th></th>\n",
       "      <th></th>\n",
       "      <th></th>\n",
       "      <th></th>\n",
       "    </tr>\n",
       "  </thead>\n",
       "  <tbody>\n",
       "    <tr>\n",
       "      <th>setosa</th>\n",
       "      <td>50.0</td>\n",
       "      <td>3.428</td>\n",
       "      <td>0.379064</td>\n",
       "      <td>2.3</td>\n",
       "      <td>3.200</td>\n",
       "      <td>3.4</td>\n",
       "      <td>3.675</td>\n",
       "      <td>4.4</td>\n",
       "    </tr>\n",
       "    <tr>\n",
       "      <th>versicolor</th>\n",
       "      <td>50.0</td>\n",
       "      <td>2.770</td>\n",
       "      <td>0.313798</td>\n",
       "      <td>2.0</td>\n",
       "      <td>2.525</td>\n",
       "      <td>2.8</td>\n",
       "      <td>3.000</td>\n",
       "      <td>3.4</td>\n",
       "    </tr>\n",
       "    <tr>\n",
       "      <th>virginica</th>\n",
       "      <td>50.0</td>\n",
       "      <td>2.974</td>\n",
       "      <td>0.322497</td>\n",
       "      <td>2.2</td>\n",
       "      <td>2.800</td>\n",
       "      <td>3.0</td>\n",
       "      <td>3.175</td>\n",
       "      <td>3.8</td>\n",
       "    </tr>\n",
       "  </tbody>\n",
       "</table>\n",
       "</div>"
      ],
      "text/plain": [
       "            count   mean       std  min    25%  50%    75%  max\n",
       "species                                                        \n",
       "setosa       50.0  3.428  0.379064  2.3  3.200  3.4  3.675  4.4\n",
       "versicolor   50.0  2.770  0.313798  2.0  2.525  2.8  3.000  3.4\n",
       "virginica    50.0  2.974  0.322497  2.2  2.800  3.0  3.175  3.8"
      ]
     },
     "execution_count": 25,
     "metadata": {},
     "output_type": "execute_result"
    }
   ],
   "source": [
    "resum_sw = df.groupby('species', observed=False)['sepal width (cm)'].describe()\n",
    "resum_sw"
   ]
  },
  {
   "cell_type": "code",
   "execution_count": 26,
   "id": "b19b1b25-e32e-44f0-af5c-637466f035cd",
   "metadata": {},
   "outputs": [
    {
     "data": {
      "text/html": [
       "<div>\n",
       "<style scoped>\n",
       "    .dataframe tbody tr th:only-of-type {\n",
       "        vertical-align: middle;\n",
       "    }\n",
       "\n",
       "    .dataframe tbody tr th {\n",
       "        vertical-align: top;\n",
       "    }\n",
       "\n",
       "    .dataframe thead th {\n",
       "        text-align: right;\n",
       "    }\n",
       "</style>\n",
       "<table border=\"1\" class=\"dataframe\">\n",
       "  <thead>\n",
       "    <tr style=\"text-align: right;\">\n",
       "      <th></th>\n",
       "      <th>count</th>\n",
       "      <th>mean</th>\n",
       "      <th>std</th>\n",
       "      <th>min</th>\n",
       "      <th>25%</th>\n",
       "      <th>50%</th>\n",
       "      <th>75%</th>\n",
       "      <th>max</th>\n",
       "    </tr>\n",
       "    <tr>\n",
       "      <th>species</th>\n",
       "      <th></th>\n",
       "      <th></th>\n",
       "      <th></th>\n",
       "      <th></th>\n",
       "      <th></th>\n",
       "      <th></th>\n",
       "      <th></th>\n",
       "      <th></th>\n",
       "    </tr>\n",
       "  </thead>\n",
       "  <tbody>\n",
       "    <tr>\n",
       "      <th>setosa</th>\n",
       "      <td>50.0</td>\n",
       "      <td>1.462</td>\n",
       "      <td>0.173664</td>\n",
       "      <td>1.0</td>\n",
       "      <td>1.4</td>\n",
       "      <td>1.50</td>\n",
       "      <td>1.575</td>\n",
       "      <td>1.9</td>\n",
       "    </tr>\n",
       "    <tr>\n",
       "      <th>versicolor</th>\n",
       "      <td>50.0</td>\n",
       "      <td>4.260</td>\n",
       "      <td>0.469911</td>\n",
       "      <td>3.0</td>\n",
       "      <td>4.0</td>\n",
       "      <td>4.35</td>\n",
       "      <td>4.600</td>\n",
       "      <td>5.1</td>\n",
       "    </tr>\n",
       "    <tr>\n",
       "      <th>virginica</th>\n",
       "      <td>50.0</td>\n",
       "      <td>5.552</td>\n",
       "      <td>0.551895</td>\n",
       "      <td>4.5</td>\n",
       "      <td>5.1</td>\n",
       "      <td>5.55</td>\n",
       "      <td>5.875</td>\n",
       "      <td>6.9</td>\n",
       "    </tr>\n",
       "  </tbody>\n",
       "</table>\n",
       "</div>"
      ],
      "text/plain": [
       "            count   mean       std  min  25%   50%    75%  max\n",
       "species                                                       \n",
       "setosa       50.0  1.462  0.173664  1.0  1.4  1.50  1.575  1.9\n",
       "versicolor   50.0  4.260  0.469911  3.0  4.0  4.35  4.600  5.1\n",
       "virginica    50.0  5.552  0.551895  4.5  5.1  5.55  5.875  6.9"
      ]
     },
     "execution_count": 26,
     "metadata": {},
     "output_type": "execute_result"
    }
   ],
   "source": [
    "resum_pl = df.groupby('species', observed=False)['petal length (cm)'].describe()\n",
    "resum_pl"
   ]
  },
  {
   "cell_type": "code",
   "execution_count": 27,
   "id": "8eb4c7ba-f8a8-4f00-adc0-3e987317f9a7",
   "metadata": {},
   "outputs": [
    {
     "data": {
      "text/html": [
       "<div>\n",
       "<style scoped>\n",
       "    .dataframe tbody tr th:only-of-type {\n",
       "        vertical-align: middle;\n",
       "    }\n",
       "\n",
       "    .dataframe tbody tr th {\n",
       "        vertical-align: top;\n",
       "    }\n",
       "\n",
       "    .dataframe thead th {\n",
       "        text-align: right;\n",
       "    }\n",
       "</style>\n",
       "<table border=\"1\" class=\"dataframe\">\n",
       "  <thead>\n",
       "    <tr style=\"text-align: right;\">\n",
       "      <th></th>\n",
       "      <th>count</th>\n",
       "      <th>mean</th>\n",
       "      <th>std</th>\n",
       "      <th>min</th>\n",
       "      <th>25%</th>\n",
       "      <th>50%</th>\n",
       "      <th>75%</th>\n",
       "      <th>max</th>\n",
       "    </tr>\n",
       "    <tr>\n",
       "      <th>species</th>\n",
       "      <th></th>\n",
       "      <th></th>\n",
       "      <th></th>\n",
       "      <th></th>\n",
       "      <th></th>\n",
       "      <th></th>\n",
       "      <th></th>\n",
       "      <th></th>\n",
       "    </tr>\n",
       "  </thead>\n",
       "  <tbody>\n",
       "    <tr>\n",
       "      <th>setosa</th>\n",
       "      <td>50.0</td>\n",
       "      <td>0.246</td>\n",
       "      <td>0.105386</td>\n",
       "      <td>0.1</td>\n",
       "      <td>0.2</td>\n",
       "      <td>0.2</td>\n",
       "      <td>0.3</td>\n",
       "      <td>0.6</td>\n",
       "    </tr>\n",
       "    <tr>\n",
       "      <th>versicolor</th>\n",
       "      <td>50.0</td>\n",
       "      <td>1.326</td>\n",
       "      <td>0.197753</td>\n",
       "      <td>1.0</td>\n",
       "      <td>1.2</td>\n",
       "      <td>1.3</td>\n",
       "      <td>1.5</td>\n",
       "      <td>1.8</td>\n",
       "    </tr>\n",
       "    <tr>\n",
       "      <th>virginica</th>\n",
       "      <td>50.0</td>\n",
       "      <td>2.026</td>\n",
       "      <td>0.274650</td>\n",
       "      <td>1.4</td>\n",
       "      <td>1.8</td>\n",
       "      <td>2.0</td>\n",
       "      <td>2.3</td>\n",
       "      <td>2.5</td>\n",
       "    </tr>\n",
       "  </tbody>\n",
       "</table>\n",
       "</div>"
      ],
      "text/plain": [
       "            count   mean       std  min  25%  50%  75%  max\n",
       "species                                                    \n",
       "setosa       50.0  0.246  0.105386  0.1  0.2  0.2  0.3  0.6\n",
       "versicolor   50.0  1.326  0.197753  1.0  1.2  1.3  1.5  1.8\n",
       "virginica    50.0  2.026  0.274650  1.4  1.8  2.0  2.3  2.5"
      ]
     },
     "execution_count": 27,
     "metadata": {},
     "output_type": "execute_result"
    }
   ],
   "source": [
    "resum_pw = df.groupby('species', observed=False)['petal width (cm)'].describe()\n",
    "resum_pw"
   ]
  },
  {
   "cell_type": "markdown",
   "id": "e26783fb-639d-4286-964a-869d91dc97ce",
   "metadata": {},
   "source": [
    "## Ejercicio 6\n",
    "Calcula la covarianza entre sepal length (cm) y petal length (cm).\n",
    "Calcula la correlación entre sepal length (cm) y petal length (cm)."
   ]
  },
  {
   "cell_type": "code",
   "execution_count": 23,
   "id": "da34a495-adbd-4881-9bf1-2d2ea22e0297",
   "metadata": {},
   "outputs": [
    {
     "data": {
      "text/plain": [
       "array([[0.68569351, 1.27431544],\n",
       "       [1.27431544, 3.11627785]])"
      ]
     },
     "execution_count": 23,
     "metadata": {},
     "output_type": "execute_result"
    }
   ],
   "source": [
    "#Con numpy\n",
    "covarianza_np = np.cov(df['sepal length (cm)'], df['petal length (cm)'])\n",
    "covarianza_np"
   ]
  },
  {
   "cell_type": "code",
   "execution_count": 24,
   "id": "e8c66a90-fc60-4182-a4e9-00599f8df6c5",
   "metadata": {},
   "outputs": [
    {
     "data": {
      "text/plain": [
       "1.2743154362416111"
      ]
     },
     "execution_count": 24,
     "metadata": {},
     "output_type": "execute_result"
    }
   ],
   "source": [
    "#Con pandas\n",
    "covarianza_pd = df['sepal length (cm)'].cov(df['petal length (cm)'])\n",
    "covarianza_pd"
   ]
  }
 ],
 "metadata": {
  "kernelspec": {
   "display_name": "Python 3 (ipykernel)",
   "language": "python",
   "name": "python3"
  },
  "language_info": {
   "codemirror_mode": {
    "name": "ipython",
    "version": 3
   },
   "file_extension": ".py",
   "mimetype": "text/x-python",
   "name": "python",
   "nbconvert_exporter": "python",
   "pygments_lexer": "ipython3",
   "version": "3.11.7"
  }
 },
 "nbformat": 4,
 "nbformat_minor": 5
}
